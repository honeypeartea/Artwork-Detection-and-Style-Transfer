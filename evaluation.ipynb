{
 "cells": [
  {
   "cell_type": "code",
   "execution_count": 3,
   "id": "1525e69e",
   "metadata": {},
   "outputs": [
    {
     "name": "stdout",
     "output_type": "stream",
     "text": [
      "(356, 39, 107, 338)\n"
     ]
    },
    {
     "data": {
      "text/plain": [
       "-1"
      ]
     },
     "execution_count": 3,
     "metadata": {},
     "output_type": "execute_result"
    }
   ],
   "source": [
    "import cv2 \n",
    "import numpy as np \n",
    "\n",
    "# Read image \n",
    "image = cv2.imread(r\"C:\\Users\\Jiaying\\Desktop\\New\\0000959_AK-NM-6685.jpg\") # could be any images from datas\n",
    "  \n",
    "# Select ROI \n",
    "r = cv2.selectROI(\"select the area\", image) \n",
    "print(r)\n",
    "  \n",
    "# Crop image \n",
    "cropped_image = image[int(r[1]):int(r[1]+r[3]),int(r[0]):int(r[0]+r[2])] \n",
    " \n",
    "# Display cropped image \n",
    "cv2.imshow(\"Cropped image\", cropped_image) \n",
    "cv2.waitKey(0) "
   ]
  },
  {
   "cell_type": "code",
   "execution_count": 24,
   "id": "a4947ed6",
   "metadata": {},
   "outputs": [],
   "source": [
    "def bb_intersection_over_union(boxA, boxB):\n",
    "    # determine the (x, y)-coordinates of the intersection rectangle\n",
    "    xA = max(boxA[0], boxB[0])\n",
    "    yA = max(boxA[1], boxB[1])\n",
    "    xB = min(boxA[2], boxB[2])\n",
    "    yB = min(boxA[3], boxB[3])\n",
    "    # compute the area of intersection rectangle\n",
    "    interArea = max(0, xB - xA + 1) * max(0, yB - yA + 1)\n",
    "    # compute the area of both the prediction and ground-truth\n",
    "    # rectangles\n",
    "    boxAArea = (boxA[2] - boxA[0] + 1) * (boxA[3] - boxA[1] + 1)\n",
    "    boxBArea = (boxB[2] - boxB[0] + 1) * (boxB[3] - boxB[1] + 1)\n",
    "    # compute the intersection over union by taking the intersection\n",
    "    # area and dividing it by the sum of prediction + ground-truth\n",
    "    # areas - the interesection area\n",
    "    iou = interArea / float(boxAArea + boxBArea - interArea)\n",
    "    # return the intersection over union value\n",
    "    return iou"
   ]
  },
  {
   "cell_type": "code",
   "execution_count": 48,
   "id": "1aaa76e4",
   "metadata": {},
   "outputs": [],
   "source": [
    "#Save the bounding box\n",
    "def iou_result(input_box1,input_box2):\n",
    "    input_box2 = sorted(input_box2, key=itemgetter(0))\n",
    " #   print(input_box2)\n",
    "    iou = 0\n",
    "    for i in range(len(input_box1)):\n",
    "        iou = iou + bb_intersection_over_union(input_box1[i],input_box2[i])\n",
    "    iou = iou / len(input_box1)\n",
    "    return iou"
   ]
  },
  {
   "cell_type": "code",
   "execution_count": 49,
   "id": "2bcd41e6",
   "metadata": {},
   "outputs": [
    {
     "name": "stdout",
     "output_type": "stream",
     "text": [
      "0.9375370477477011\n",
      "0.9111224963608185\n",
      "0.5991123350406865\n"
     ]
    }
   ],
   "source": [
    "from operator import itemgetter\n",
    "box = [[51,54,147,372],[193,69,314,385],[356,39,463,377]]\n",
    "box1 = [[ 48.1294,  60.3545, 146.9369, 375.0056],\n",
    "        [195.5536,  65.6613, 312.4192, 379.5107],\n",
    "        [359.0522,  30.7162, 462.6158, 383.1537]]\n",
    "box2 = [[ 48.9902,  58.9482, 145.7550, 369.8870],\n",
    "        [360.2882,  38.2331, 460.3015, 371.4432],\n",
    "        [189.1356,  74.2480, 303.6601, 386.4749]]\n",
    "box3 = [[0.0, 0.0, 0.0, 0.0],\n",
    "        [195.9486,  71.3017, 306.7025, 380.4228],\n",
    "        [354.7665,  31.7981, 458.7474, 366.1123]]\n",
    "iou1 = iou_result(box,box1)\n",
    "iou2 = iou_result(box,box2)\n",
    "iou3 = iou_result(box,box3)\n",
    "print(iou1)\n",
    "print(iou2)\n",
    "print(iou3)"
   ]
  },
  {
   "cell_type": "code",
   "execution_count": null,
   "id": "9de27f33",
   "metadata": {},
   "outputs": [],
   "source": []
  }
 ],
 "metadata": {
  "kernelspec": {
   "display_name": "Python 3 (ipykernel)",
   "language": "python",
   "name": "python3"
  },
  "language_info": {
   "codemirror_mode": {
    "name": "ipython",
    "version": 3
   },
   "file_extension": ".py",
   "mimetype": "text/x-python",
   "name": "python",
   "nbconvert_exporter": "python",
   "pygments_lexer": "ipython3",
   "version": "3.7.11"
  }
 },
 "nbformat": 4,
 "nbformat_minor": 5
}
