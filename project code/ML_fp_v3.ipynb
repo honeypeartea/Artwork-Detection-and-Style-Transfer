{
  "nbformat": 4,
  "nbformat_minor": 0,
  "metadata": {
    "colab": {
      "name": "ML_fp_v3.ipynb",
      "provenance": [],
      "collapsed_sections": [],
      "machine_shape": "hm"
    },
    "kernelspec": {
      "name": "python3",
      "display_name": "Python 3"
    },
    "language_info": {
      "name": "python"
    },
    "accelerator": "GPU",
    "widgets": {
      "application/vnd.jupyter.widget-state+json": {
        "2477b44cecc24552abd990a233f5b617": {
          "model_module": "@jupyter-widgets/controls",
          "model_name": "HBoxModel",
          "model_module_version": "1.5.0",
          "state": {
            "_dom_classes": [],
            "_model_module": "@jupyter-widgets/controls",
            "_model_module_version": "1.5.0",
            "_model_name": "HBoxModel",
            "_view_count": null,
            "_view_module": "@jupyter-widgets/controls",
            "_view_module_version": "1.5.0",
            "_view_name": "HBoxView",
            "box_style": "",
            "children": [
              "IPY_MODEL_de350d0a47c14d6daa8931c46ff7d85b",
              "IPY_MODEL_6f62fd47ea7c451abcc5e472e27ad4d4",
              "IPY_MODEL_eb991cea80e94f54bae035ad009eec17"
            ],
            "layout": "IPY_MODEL_434f7f672c2d40a2985c4b8891fb3b91"
          }
        },
        "de350d0a47c14d6daa8931c46ff7d85b": {
          "model_module": "@jupyter-widgets/controls",
          "model_name": "HTMLModel",
          "model_module_version": "1.5.0",
          "state": {
            "_dom_classes": [],
            "_model_module": "@jupyter-widgets/controls",
            "_model_module_version": "1.5.0",
            "_model_name": "HTMLModel",
            "_view_count": null,
            "_view_module": "@jupyter-widgets/controls",
            "_view_module_version": "1.5.0",
            "_view_name": "HTMLView",
            "description": "",
            "description_tooltip": null,
            "layout": "IPY_MODEL_f439de8b02124ea3bb7c4bf6af53eec7",
            "placeholder": "​",
            "style": "IPY_MODEL_4cda26b7c19745fdb2e326ac4e72c6ff",
            "value": "100%"
          }
        },
        "6f62fd47ea7c451abcc5e472e27ad4d4": {
          "model_module": "@jupyter-widgets/controls",
          "model_name": "FloatProgressModel",
          "model_module_version": "1.5.0",
          "state": {
            "_dom_classes": [],
            "_model_module": "@jupyter-widgets/controls",
            "_model_module_version": "1.5.0",
            "_model_name": "FloatProgressModel",
            "_view_count": null,
            "_view_module": "@jupyter-widgets/controls",
            "_view_module_version": "1.5.0",
            "_view_name": "ProgressView",
            "bar_style": "success",
            "description": "",
            "description_tooltip": null,
            "layout": "IPY_MODEL_8ede445b19964934bb896446508cbb83",
            "max": 553433881,
            "min": 0,
            "orientation": "horizontal",
            "style": "IPY_MODEL_dfdfff391b184005a9fc762ffb40759c",
            "value": 553433881
          }
        },
        "eb991cea80e94f54bae035ad009eec17": {
          "model_module": "@jupyter-widgets/controls",
          "model_name": "HTMLModel",
          "model_module_version": "1.5.0",
          "state": {
            "_dom_classes": [],
            "_model_module": "@jupyter-widgets/controls",
            "_model_module_version": "1.5.0",
            "_model_name": "HTMLModel",
            "_view_count": null,
            "_view_module": "@jupyter-widgets/controls",
            "_view_module_version": "1.5.0",
            "_view_name": "HTMLView",
            "description": "",
            "description_tooltip": null,
            "layout": "IPY_MODEL_654fa68d733743a8a681d8ced88bbe51",
            "placeholder": "​",
            "style": "IPY_MODEL_6e22aedb69854079af74357abfe8a468",
            "value": " 528M/528M [00:04&lt;00:00, 145MB/s]"
          }
        },
        "434f7f672c2d40a2985c4b8891fb3b91": {
          "model_module": "@jupyter-widgets/base",
          "model_name": "LayoutModel",
          "model_module_version": "1.2.0",
          "state": {
            "_model_module": "@jupyter-widgets/base",
            "_model_module_version": "1.2.0",
            "_model_name": "LayoutModel",
            "_view_count": null,
            "_view_module": "@jupyter-widgets/base",
            "_view_module_version": "1.2.0",
            "_view_name": "LayoutView",
            "align_content": null,
            "align_items": null,
            "align_self": null,
            "border": null,
            "bottom": null,
            "display": null,
            "flex": null,
            "flex_flow": null,
            "grid_area": null,
            "grid_auto_columns": null,
            "grid_auto_flow": null,
            "grid_auto_rows": null,
            "grid_column": null,
            "grid_gap": null,
            "grid_row": null,
            "grid_template_areas": null,
            "grid_template_columns": null,
            "grid_template_rows": null,
            "height": null,
            "justify_content": null,
            "justify_items": null,
            "left": null,
            "margin": null,
            "max_height": null,
            "max_width": null,
            "min_height": null,
            "min_width": null,
            "object_fit": null,
            "object_position": null,
            "order": null,
            "overflow": null,
            "overflow_x": null,
            "overflow_y": null,
            "padding": null,
            "right": null,
            "top": null,
            "visibility": null,
            "width": null
          }
        },
        "f439de8b02124ea3bb7c4bf6af53eec7": {
          "model_module": "@jupyter-widgets/base",
          "model_name": "LayoutModel",
          "model_module_version": "1.2.0",
          "state": {
            "_model_module": "@jupyter-widgets/base",
            "_model_module_version": "1.2.0",
            "_model_name": "LayoutModel",
            "_view_count": null,
            "_view_module": "@jupyter-widgets/base",
            "_view_module_version": "1.2.0",
            "_view_name": "LayoutView",
            "align_content": null,
            "align_items": null,
            "align_self": null,
            "border": null,
            "bottom": null,
            "display": null,
            "flex": null,
            "flex_flow": null,
            "grid_area": null,
            "grid_auto_columns": null,
            "grid_auto_flow": null,
            "grid_auto_rows": null,
            "grid_column": null,
            "grid_gap": null,
            "grid_row": null,
            "grid_template_areas": null,
            "grid_template_columns": null,
            "grid_template_rows": null,
            "height": null,
            "justify_content": null,
            "justify_items": null,
            "left": null,
            "margin": null,
            "max_height": null,
            "max_width": null,
            "min_height": null,
            "min_width": null,
            "object_fit": null,
            "object_position": null,
            "order": null,
            "overflow": null,
            "overflow_x": null,
            "overflow_y": null,
            "padding": null,
            "right": null,
            "top": null,
            "visibility": null,
            "width": null
          }
        },
        "4cda26b7c19745fdb2e326ac4e72c6ff": {
          "model_module": "@jupyter-widgets/controls",
          "model_name": "DescriptionStyleModel",
          "model_module_version": "1.5.0",
          "state": {
            "_model_module": "@jupyter-widgets/controls",
            "_model_module_version": "1.5.0",
            "_model_name": "DescriptionStyleModel",
            "_view_count": null,
            "_view_module": "@jupyter-widgets/base",
            "_view_module_version": "1.2.0",
            "_view_name": "StyleView",
            "description_width": ""
          }
        },
        "8ede445b19964934bb896446508cbb83": {
          "model_module": "@jupyter-widgets/base",
          "model_name": "LayoutModel",
          "model_module_version": "1.2.0",
          "state": {
            "_model_module": "@jupyter-widgets/base",
            "_model_module_version": "1.2.0",
            "_model_name": "LayoutModel",
            "_view_count": null,
            "_view_module": "@jupyter-widgets/base",
            "_view_module_version": "1.2.0",
            "_view_name": "LayoutView",
            "align_content": null,
            "align_items": null,
            "align_self": null,
            "border": null,
            "bottom": null,
            "display": null,
            "flex": null,
            "flex_flow": null,
            "grid_area": null,
            "grid_auto_columns": null,
            "grid_auto_flow": null,
            "grid_auto_rows": null,
            "grid_column": null,
            "grid_gap": null,
            "grid_row": null,
            "grid_template_areas": null,
            "grid_template_columns": null,
            "grid_template_rows": null,
            "height": null,
            "justify_content": null,
            "justify_items": null,
            "left": null,
            "margin": null,
            "max_height": null,
            "max_width": null,
            "min_height": null,
            "min_width": null,
            "object_fit": null,
            "object_position": null,
            "order": null,
            "overflow": null,
            "overflow_x": null,
            "overflow_y": null,
            "padding": null,
            "right": null,
            "top": null,
            "visibility": null,
            "width": null
          }
        },
        "dfdfff391b184005a9fc762ffb40759c": {
          "model_module": "@jupyter-widgets/controls",
          "model_name": "ProgressStyleModel",
          "model_module_version": "1.5.0",
          "state": {
            "_model_module": "@jupyter-widgets/controls",
            "_model_module_version": "1.5.0",
            "_model_name": "ProgressStyleModel",
            "_view_count": null,
            "_view_module": "@jupyter-widgets/base",
            "_view_module_version": "1.2.0",
            "_view_name": "StyleView",
            "bar_color": null,
            "description_width": ""
          }
        },
        "654fa68d733743a8a681d8ced88bbe51": {
          "model_module": "@jupyter-widgets/base",
          "model_name": "LayoutModel",
          "model_module_version": "1.2.0",
          "state": {
            "_model_module": "@jupyter-widgets/base",
            "_model_module_version": "1.2.0",
            "_model_name": "LayoutModel",
            "_view_count": null,
            "_view_module": "@jupyter-widgets/base",
            "_view_module_version": "1.2.0",
            "_view_name": "LayoutView",
            "align_content": null,
            "align_items": null,
            "align_self": null,
            "border": null,
            "bottom": null,
            "display": null,
            "flex": null,
            "flex_flow": null,
            "grid_area": null,
            "grid_auto_columns": null,
            "grid_auto_flow": null,
            "grid_auto_rows": null,
            "grid_column": null,
            "grid_gap": null,
            "grid_row": null,
            "grid_template_areas": null,
            "grid_template_columns": null,
            "grid_template_rows": null,
            "height": null,
            "justify_content": null,
            "justify_items": null,
            "left": null,
            "margin": null,
            "max_height": null,
            "max_width": null,
            "min_height": null,
            "min_width": null,
            "object_fit": null,
            "object_position": null,
            "order": null,
            "overflow": null,
            "overflow_x": null,
            "overflow_y": null,
            "padding": null,
            "right": null,
            "top": null,
            "visibility": null,
            "width": null
          }
        },
        "6e22aedb69854079af74357abfe8a468": {
          "model_module": "@jupyter-widgets/controls",
          "model_name": "DescriptionStyleModel",
          "model_module_version": "1.5.0",
          "state": {
            "_model_module": "@jupyter-widgets/controls",
            "_model_module_version": "1.5.0",
            "_model_name": "DescriptionStyleModel",
            "_view_count": null,
            "_view_module": "@jupyter-widgets/base",
            "_view_module_version": "1.2.0",
            "_view_name": "StyleView",
            "description_width": ""
          }
        }
      }
    }
  },
  "cells": [
    {
      "cell_type": "code",
      "execution_count": 1,
      "metadata": {
        "colab": {
          "base_uri": "https://localhost:8080/"
        },
        "id": "q15K6rSTD0Tb",
        "outputId": "76d52da2-029e-451e-8794-206d1f8ea0fe"
      },
      "outputs": [
        {
          "output_type": "stream",
          "name": "stdout",
          "text": [
            "Mounted at /content/drive\n"
          ]
        }
      ],
      "source": [
        "from google.colab import drive\n",
        "drive.mount('/content/drive')"
      ]
    },
    {
      "cell_type": "code",
      "source": [
        "%cd /content/drive/My Drive\n",
        "!ls"
      ],
      "metadata": {
        "colab": {
          "base_uri": "https://localhost:8080/"
        },
        "id": "CQLuW0FFEAtI",
        "outputId": "e8c548e1-3732-48ff-b3bf-41b8a2bcc3d3"
      },
      "execution_count": 2,
      "outputs": [
        {
          "output_type": "stream",
          "name": "stdout",
          "text": [
            "/content/drive/My Drive\n",
            " Autoencoder.ipynb\t  image_total\t\t     Presentation.pdf\n",
            "'Colab Notebooks'\t 'label info.csv'\t     sample_label.CSV\n",
            " DL_fp_deeplab-v3.ipynb   ML_fp_v1.ipynb\t    'slide from dong.pptx'\n",
            " DL_fp_TernausNet.ipynb   ML_fp_v3.ipynb\t     test\n",
            " DL_fp_Unet.ipynb\t  ML_project_v2.ipynb\t     train\n",
            " DL-HW3.ipynb\t\t  model_paramenter.txt\t     Untitled0.ipynb\n",
            " DL_HW4.ipynb\t\t  new_test\t\t     Untitled1.ipynb\n",
            " evaluate_image\t\t  optimizer_paramenter.txt\n"
          ]
        }
      ]
    },
    {
      "cell_type": "code",
      "source": [
        "import os\n",
        "import torch\n",
        "from torch.utils.data import DataLoader\n",
        "from torchvision.utils import save_image\n",
        "import torch\n",
        "import torch.nn as nn\n",
        "import numpy as np\n",
        "import cv2\n",
        "import random\n",
        "import torchvision.transforms as transforms\n",
        "from torch.utils import data\n",
        "import torchvision\n",
        "from torch.nn import functional as F\n",
        "from torchvision import models\n",
        "import matplotlib.pyplot as plt\n",
        "import pandas as pd\n",
        "import torchvision\n",
        "import numpy as np\n",
        "import torch.optim as optim\n",
        "import torchvision.datasets as td\n",
        "from torchvision import transforms\n",
        "from PIL import Image\n",
        "from skimage.feature import hog as hog\n",
        "from sklearn.model_selection import cross_val_score\n",
        "from sklearn.neighbors import KNeighborsClassifier\n",
        "from sklearn.metrics import plot_confusion_matrix,f1_score"
      ],
      "metadata": {
        "id": "4zgv9KViEC5S"
      },
      "execution_count": 3,
      "outputs": []
    },
    {
      "cell_type": "code",
      "source": [
        "##label for train,evaluate,test set###  int\n",
        "ground_truth=[0]*193+[1]*193+[2]*193+[3]*198+[4]*195\n",
        "evaluate_truth=[0]*3+[1]*3+[2]*3+[3]*3+[4]*3\n",
        "test_truth=[0]*15+[1]*14+[2]*14+[3]*15+[4]*14"
      ],
      "metadata": {
        "id": "70XPG3oYEIQd"
      },
      "execution_count": 4,
      "outputs": []
    },
    {
      "cell_type": "code",
      "source": [
        "len(test_truth)"
      ],
      "metadata": {
        "colab": {
          "base_uri": "https://localhost:8080/"
        },
        "id": "aj185hid2ycX",
        "outputId": "9f56eab9-8234-40a1-e4c5-a4d5730c173f"
      },
      "execution_count": 16,
      "outputs": [
        {
          "output_type": "execute_result",
          "data": {
            "text/plain": [
              "72"
            ]
          },
          "metadata": {},
          "execution_count": 16
        }
      ]
    },
    {
      "cell_type": "code",
      "source": [
        "##load pretrained VGG network ###\n",
        "VGG=torch.hub.load('pytorch/vision:v0.8.2', 'vgg16', pretrained=True)\n",
        "#VGG_new=nn.Sequential(*list(VGG.classifier.children())[:-1])\n",
        "#VGG.classifier=VGG_new\n",
        "#print(VGG)\n",
        "VGG_new=nn.Sequential(\n",
        "    *list(VGG.classifier.children())[:-1],\n",
        "    nn.Linear(4096,5)\n",
        ")\n",
        "VGG.classifier=VGG_new\n",
        "print(VGG)"
      ],
      "metadata": {
        "colab": {
          "base_uri": "https://localhost:8080/",
          "height": 864,
          "referenced_widgets": [
            "2477b44cecc24552abd990a233f5b617",
            "de350d0a47c14d6daa8931c46ff7d85b",
            "6f62fd47ea7c451abcc5e472e27ad4d4",
            "eb991cea80e94f54bae035ad009eec17",
            "434f7f672c2d40a2985c4b8891fb3b91",
            "f439de8b02124ea3bb7c4bf6af53eec7",
            "4cda26b7c19745fdb2e326ac4e72c6ff",
            "8ede445b19964934bb896446508cbb83",
            "dfdfff391b184005a9fc762ffb40759c",
            "654fa68d733743a8a681d8ced88bbe51",
            "6e22aedb69854079af74357abfe8a468"
          ]
        },
        "id": "7BiSPznuE28C",
        "outputId": "ac3a7708-a236-489b-c0e9-2bc9314d673b"
      },
      "execution_count": 5,
      "outputs": [
        {
          "output_type": "stream",
          "name": "stderr",
          "text": [
            "Downloading: \"https://github.com/pytorch/vision/archive/v0.8.2.zip\" to /root/.cache/torch/hub/v0.8.2.zip\n",
            "Downloading: \"https://download.pytorch.org/models/vgg16-397923af.pth\" to /root/.cache/torch/hub/checkpoints/vgg16-397923af.pth\n"
          ]
        },
        {
          "output_type": "display_data",
          "data": {
            "text/plain": [
              "  0%|          | 0.00/528M [00:00<?, ?B/s]"
            ],
            "application/vnd.jupyter.widget-view+json": {
              "version_major": 2,
              "version_minor": 0,
              "model_id": "2477b44cecc24552abd990a233f5b617"
            }
          },
          "metadata": {}
        },
        {
          "output_type": "stream",
          "name": "stdout",
          "text": [
            "VGG(\n",
            "  (features): Sequential(\n",
            "    (0): Conv2d(3, 64, kernel_size=(3, 3), stride=(1, 1), padding=(1, 1))\n",
            "    (1): ReLU(inplace=True)\n",
            "    (2): Conv2d(64, 64, kernel_size=(3, 3), stride=(1, 1), padding=(1, 1))\n",
            "    (3): ReLU(inplace=True)\n",
            "    (4): MaxPool2d(kernel_size=2, stride=2, padding=0, dilation=1, ceil_mode=False)\n",
            "    (5): Conv2d(64, 128, kernel_size=(3, 3), stride=(1, 1), padding=(1, 1))\n",
            "    (6): ReLU(inplace=True)\n",
            "    (7): Conv2d(128, 128, kernel_size=(3, 3), stride=(1, 1), padding=(1, 1))\n",
            "    (8): ReLU(inplace=True)\n",
            "    (9): MaxPool2d(kernel_size=2, stride=2, padding=0, dilation=1, ceil_mode=False)\n",
            "    (10): Conv2d(128, 256, kernel_size=(3, 3), stride=(1, 1), padding=(1, 1))\n",
            "    (11): ReLU(inplace=True)\n",
            "    (12): Conv2d(256, 256, kernel_size=(3, 3), stride=(1, 1), padding=(1, 1))\n",
            "    (13): ReLU(inplace=True)\n",
            "    (14): Conv2d(256, 256, kernel_size=(3, 3), stride=(1, 1), padding=(1, 1))\n",
            "    (15): ReLU(inplace=True)\n",
            "    (16): MaxPool2d(kernel_size=2, stride=2, padding=0, dilation=1, ceil_mode=False)\n",
            "    (17): Conv2d(256, 512, kernel_size=(3, 3), stride=(1, 1), padding=(1, 1))\n",
            "    (18): ReLU(inplace=True)\n",
            "    (19): Conv2d(512, 512, kernel_size=(3, 3), stride=(1, 1), padding=(1, 1))\n",
            "    (20): ReLU(inplace=True)\n",
            "    (21): Conv2d(512, 512, kernel_size=(3, 3), stride=(1, 1), padding=(1, 1))\n",
            "    (22): ReLU(inplace=True)\n",
            "    (23): MaxPool2d(kernel_size=2, stride=2, padding=0, dilation=1, ceil_mode=False)\n",
            "    (24): Conv2d(512, 512, kernel_size=(3, 3), stride=(1, 1), padding=(1, 1))\n",
            "    (25): ReLU(inplace=True)\n",
            "    (26): Conv2d(512, 512, kernel_size=(3, 3), stride=(1, 1), padding=(1, 1))\n",
            "    (27): ReLU(inplace=True)\n",
            "    (28): Conv2d(512, 512, kernel_size=(3, 3), stride=(1, 1), padding=(1, 1))\n",
            "    (29): ReLU(inplace=True)\n",
            "    (30): MaxPool2d(kernel_size=2, stride=2, padding=0, dilation=1, ceil_mode=False)\n",
            "  )\n",
            "  (avgpool): AdaptiveAvgPool2d(output_size=(7, 7))\n",
            "  (classifier): Sequential(\n",
            "    (0): Linear(in_features=25088, out_features=4096, bias=True)\n",
            "    (1): ReLU(inplace=True)\n",
            "    (2): Dropout(p=0.5, inplace=False)\n",
            "    (3): Linear(in_features=4096, out_features=4096, bias=True)\n",
            "    (4): ReLU(inplace=True)\n",
            "    (5): Dropout(p=0.5, inplace=False)\n",
            "    (6): Linear(in_features=4096, out_features=5, bias=True)\n",
            "  )\n",
            ")\n"
          ]
        }
      ]
    },
    {
      "cell_type": "code",
      "source": [
        "###make a test###\n",
        "for p in VGG.features.children():\n",
        "  for params in p.parameters():\n",
        "    params.requires_grad=False\n",
        "\n",
        "for name, params in VGG.named_parameters():\n",
        "  if params.requires_grad:\n",
        "    print(name)"
      ],
      "metadata": {
        "colab": {
          "base_uri": "https://localhost:8080/"
        },
        "id": "nj9knn93E76m",
        "outputId": "af436b35-0804-44f2-98f1-4632bcee5df4"
      },
      "execution_count": 6,
      "outputs": [
        {
          "output_type": "stream",
          "name": "stdout",
          "text": [
            "classifier.0.weight\n",
            "classifier.0.bias\n",
            "classifier.3.weight\n",
            "classifier.3.bias\n",
            "classifier.6.weight\n",
            "classifier.6.bias\n"
          ]
        }
      ]
    },
    {
      "cell_type": "code",
      "source": [
        "###define a train loader###\n",
        "preprocess = transforms.Compose([\n",
        "    transforms.ToPILImage(),\n",
        "    transforms.Resize((256,256)),\n",
        "    transforms.CenterCrop(224),\n",
        "    transforms.ToTensor(),\n",
        "    transforms.Normalize(mean=[0.485, 0.456, 0.406], std=[0.229, 0.224, 0.225]),\n",
        "])\n",
        "\n",
        "class train_set(data.Dataset):\n",
        "  def __init__ (self,root_path='/content/drive/My Drive'):\n",
        "    self.image=[]\n",
        "    self.label=ground_truth\n",
        "\n",
        "    for i in range(1,973):\n",
        "      ###(H,W,C)###\n",
        "      img = cv2.imread(os.path.join(root_path, \"image_total\", \"%07d.jpg\" % i))\n",
        "      self.image.append(img)\n",
        "\n",
        "  def __len__(self):\n",
        "    return len(self.label)\n",
        "\n",
        "  def __getitem__(self, index):\n",
        "     image=self.image[index]\n",
        "     label=float(self.label[index])\n",
        "     #pil_image=Image.fromarray(image.astype(np.uint8))\n",
        "\n",
        "     output=preprocess(image)\n",
        "     return output,label\n",
        "\n",
        "\n",
        "path='/content/drive/My Drive'\n",
        "Train_set=train_set(path)\n",
        "\n",
        "    \n",
        "\n",
        "    \n",
        "\n",
        "      \n",
        "       \n"
      ],
      "metadata": {
        "id": "1ncPexM9FAdo"
      },
      "execution_count": 7,
      "outputs": []
    },
    {
      "cell_type": "code",
      "source": [
        "len(Train_set)==len(Train_set.image)\n",
        "Train_set[1][0].shape"
      ],
      "metadata": {
        "colab": {
          "base_uri": "https://localhost:8080/"
        },
        "id": "G6e2yvUp7Ow3",
        "outputId": "ff40a10b-055f-4dfe-dd28-cbef2e05558a"
      },
      "execution_count": 8,
      "outputs": [
        {
          "output_type": "execute_result",
          "data": {
            "text/plain": [
              "torch.Size([3, 224, 224])"
            ]
          },
          "metadata": {},
          "execution_count": 8
        }
      ]
    },
    {
      "cell_type": "code",
      "source": [
        "###define evaluate_loader###\n",
        "class evaluate_set(data.Dataset):\n",
        "  def __init__ (self,root_path='/content/drive/My Drive'):\n",
        "    self.image=[]\n",
        "    self.label=evaluate_truth\n",
        "\n",
        "    for i in range(1,16):\n",
        "      ###(H,W,C)###\n",
        "      img = cv2.imread(os.path.join(root_path, \"evaluate_image\", \"%03d.jpg\" % i))\n",
        "      self.image.append(img)\n",
        "\n",
        "  def __len__(self):\n",
        "    return len(self.label)\n",
        "\n",
        "  def __getitem__(self, index):\n",
        "     image=self.image[index]\n",
        "     label=float(self.label[index])\n",
        "\n",
        "     output=preprocess(image)\n",
        "     return output,label\n",
        "     \n",
        "path='/content/drive/My Drive'\n",
        "evaluate_set=evaluate_set(path)"
      ],
      "metadata": {
        "id": "g1IF87QlbmCn"
      },
      "execution_count": 9,
      "outputs": []
    },
    {
      "cell_type": "code",
      "source": [
        "len(evaluate_set)==len(evaluate_set.image)"
      ],
      "metadata": {
        "colab": {
          "base_uri": "https://localhost:8080/"
        },
        "id": "XsEQKl1cht_g",
        "outputId": "62e19a6b-8752-456d-a2f8-3731e90a5da7"
      },
      "execution_count": 10,
      "outputs": [
        {
          "output_type": "execute_result",
          "data": {
            "text/plain": [
              "True"
            ]
          },
          "metadata": {},
          "execution_count": 10
        }
      ]
    },
    {
      "cell_type": "code",
      "source": [
        "###define test loader###\n",
        "class test_set(data.Dataset):\n",
        "  def __init__ (self,root_path='/content/drive/My Drive'):\n",
        "    self.image=[]\n",
        "    self.label=test_truth\n",
        "\n",
        "    for i in range(72):\n",
        "      ###(H,W,C)###\n",
        "      img = cv2.imread(os.path.join(root_path, \"new_test\", \"%03d.jpg\" % i))\n",
        "      self.image.append(img)\n",
        "\n",
        "  def __len__(self):\n",
        "    return len(self.label)\n",
        "\n",
        "  def __getitem__(self, index):\n",
        "     image=self.image[index]\n",
        "     label=float(self.label[index])\n",
        "\n",
        "     output=preprocess(image)\n",
        "     return output,label\n",
        "     \n",
        "path='/content/drive/My Drive'\n",
        "test_set=test_set(path)"
      ],
      "metadata": {
        "id": "BUwz6OKsEEw6"
      },
      "execution_count": 11,
      "outputs": []
    },
    {
      "cell_type": "code",
      "source": [
        "len(test_set)==len(test_set.image)"
      ],
      "metadata": {
        "colab": {
          "base_uri": "https://localhost:8080/"
        },
        "id": "2SFiz7x7FM-9",
        "outputId": "5c690284-e7af-4bae-8a80-33cd26c29023"
      },
      "execution_count": 12,
      "outputs": [
        {
          "output_type": "execute_result",
          "data": {
            "text/plain": [
              "True"
            ]
          },
          "metadata": {},
          "execution_count": 12
        }
      ]
    },
    {
      "cell_type": "code",
      "source": [
        "###example of preprocess image and original image###\n",
        "root_path='/content/drive/My Drive'\n",
        "image,label=Train_set[1]\n",
        "print(image.shape)\n",
        "a=image.squeeze(0).numpy().transpose((1,2,0))\n",
        "plt.imshow(a)\n",
        "plt.show()\n",
        "##(0-255) int###\n",
        "img = cv2.imread(os.path.join(root_path, \"image_total\", \"%07d.jpg\" % 2))\n",
        "plt.imshow(img)\n",
        "plt.show()\n",
        "#a"
      ],
      "metadata": {
        "colab": {
          "base_uri": "https://localhost:8080/",
          "height": 556
        },
        "id": "ohk6hXLBOvkH",
        "outputId": "29222ca3-dbfd-4826-de95-304e792a62cf"
      },
      "execution_count": 13,
      "outputs": [
        {
          "output_type": "stream",
          "name": "stderr",
          "text": [
            "Clipping input data to the valid range for imshow with RGB data ([0..1] for floats or [0..255] for integers).\n"
          ]
        },
        {
          "output_type": "stream",
          "name": "stdout",
          "text": [
            "torch.Size([3, 224, 224])\n"
          ]
        },
        {
          "output_type": "display_data",
          "data": {
            "text/plain": [
              "<Figure size 432x288 with 1 Axes>"
            ],
            "image/png": "[encoded data removed]"
          },
          "metadata": {
            "needs_background": "light"
          }
        },
        {
          "output_type": "display_data",
          "data": {
            "text/plain": [
              "<Figure size 432x288 with 1 Axes>"
            ],
            "image/png": "[encoded data removed]"
          },
          "metadata": {
            "needs_background": "light"
          }
        }
      ]
    },
    {
      "cell_type": "code",
      "source": [
        "###create related DataLoader###\n",
        "train_loader=data.DataLoader(Train_set,batch_size=32,shuffle=True,drop_last=True,num_workers=2)\n",
        "eva_loader=data.DataLoader(evaluate_set,batch_size=1,num_workers=2)\n",
        "test_loader=data.DataLoader(test_set,batch_size=1,num_workers=2)"
      ],
      "metadata": {
        "id": "fv03qd_rMgc5"
      },
      "execution_count": 14,
      "outputs": []
    },
    {
      "cell_type": "code",
      "source": [
        "###main train and evaluate function ###\n",
        "def train_main(model,loss_fn,optimizer,train_loader):\n",
        "  loss_epoch=[]\n",
        "  for batchind,data in enumerate(train_loader):\n",
        "    model.train()\n",
        "    ##(b,c,h,w)\n",
        "    images,label=data\n",
        "    #print(images.shape)\n",
        "    optimizer.zero_grad()\n",
        "    outputs=model(images)\n",
        "    ouputs=outputs.long()\n",
        "    label=label.long()\n",
        "\n",
        "    loss=loss_fn(outputs,label)\n",
        "    loss_epoch.append(loss.item())\n",
        "\n",
        "    loss.backward()\n",
        "    optimizer.step()\n",
        "  return loss_epoch\n",
        "\n",
        "def evaluate_whole(model,evaluate_loader,evaluate_truth):\n",
        "  predict_list=[]\n",
        "  norm=nn.Softmax(1)\n",
        "  model.eval()\n",
        "  with torch.no_grad():\n",
        "    for batchind,data in enumerate(evaluate_loader):\n",
        "      images,label=data\n",
        "      ##change to (1,c,h,w)\n",
        "      images_norm=images\n",
        "      outputs=model(images_norm)\n",
        "      norm_outputs=norm(outputs).numpy().ravel()\n",
        "      predict_list.append(np.argmax(norm_outputs))\n",
        "  f1_c=f1_score(evaluate_truth,predict_list,average='micro')\n",
        "\n",
        "  return predict_list,f1_c\n",
        "\n",
        "\n",
        "\n",
        "\n",
        "num_epoch=3\n",
        "model=VGG\n",
        "loss_fn=nn.CrossEntropyLoss()\n",
        "optimizer=optim.Adam(filter(lambda p:p.requires_grad,model.parameters()),lr=1e-4)\n"
      ],
      "metadata": {
        "id": "gveJQqtdM2Z1"
      },
      "execution_count": 15,
      "outputs": []
    },
    {
      "cell_type": "code",
      "source": [
        "### main train function###\n",
        "train_loss=[]\n",
        "evaluate_score=[]\n",
        "for i in range(num_epoch):\n",
        "  loss=train_main(model,loss_fn,optimizer,train_loader)\n",
        "  train_loss.append(np.mean(loss))\n",
        "  predict_r,f1_r=evaluate_whole(model,eva_loader,evaluate_truth)\n",
        "  evaluate_score.append(f1_r)\n",
        "  print(f'epoch{i+1} has been trained')\n",
        "\n",
        "\n",
        "\n"
      ],
      "metadata": {
        "colab": {
          "base_uri": "https://localhost:8080/"
        },
        "id": "ISsAwZzN5eoh",
        "outputId": "fff35b07-4410-4f7c-c76d-db8215f71dc1"
      },
      "execution_count": 16,
      "outputs": [
        {
          "output_type": "stream",
          "name": "stdout",
          "text": [
            "epoch1 has been trained\n",
            "epoch2 has been trained\n",
            "epoch3 has been trained\n"
          ]
        }
      ]
    },
    {
      "cell_type": "code",
      "source": [
        "### print train result and evaluation result###\n",
        "plt.plot(train_loss,'o-r',label='train_loss')\n",
        "plt.plot(evaluate_score,'o-b',label='evaulate_f1 score')\n",
        "plt.xlabel('num of epoch')\n",
        "plt.ylabel('related value')\n",
        "plt.grid()\n",
        "plt.legend()\n",
        "plt.show()"
      ],
      "metadata": {
        "colab": {
          "base_uri": "https://localhost:8080/",
          "height": 279
        },
        "id": "cyosEb3i6e6A",
        "outputId": "6dad41e4-76a7-4a01-eed0-a65bb85ceda0"
      },
      "execution_count": 18,
      "outputs": [
        {
          "output_type": "display_data",
          "data": {
            "text/plain": [
              "<Figure size 432x288 with 1 Axes>"
            ],
            "image/png": "[encoded data removed]"
          },
          "metadata": {
            "needs_background": "light"
          }
        }
      ]
    },
    {
      "cell_type": "code",
      "source": [
        "## the main test part ##\n",
        "import seaborn as sns\n",
        "from sklearn.metrics import confusion_matrix,f1_score\n",
        "def test_whole(model,test_loader,truth_label):\n",
        "  predict_list=[]\n",
        "  norm=nn.Softmax(1)\n",
        "  model.eval()\n",
        "  with torch.no_grad():\n",
        "    for batchind,data in enumerate(test_loader):\n",
        "      images,label=data\n",
        "      ##change to (1,c,h,w)\n",
        "      images_norm=images\n",
        "      outputs=model(images_norm)\n",
        "      norm_outputs=norm(outputs).numpy().ravel()\n",
        "      predict_list.append(np.argmax(norm_outputs))\n",
        "  f1_c=f1_score(truth_label,predict_list,average='micro')\n",
        "  con_mat=confusion_matrix(truth_label,predict_list)\n",
        "\n",
        "  return predict_list,f1_c,con_mat\n",
        "\n",
        "truth=test_set.label\n",
        "predict_label,f1,mat=test_whole(model,test_loader,truth)\n",
        "\n"
      ],
      "metadata": {
        "id": "T1IBC_ZQd5k2"
      },
      "execution_count": 19,
      "outputs": []
    },
    {
      "cell_type": "code",
      "source": [
        "print(f'the micro f1 score on test set is {f1}')\n",
        "label_name=['pottery','print','painting','photo','sculpture']\n",
        "sns.heatmap(mat.T,square=True,annot=True,fmt='d',cbar=True,xticklabels=label_name,yticklabels=label_name)\n",
        "#plt.colorbar()\n",
        "plt.ylabel('predicted label')\n",
        "plt.xlabel('truth label')\n",
        "plt.title('Confusion matrix')\n",
        "plt.show()"
      ],
      "metadata": {
        "colab": {
          "base_uri": "https://localhost:8080/",
          "height": 312
        },
        "id": "c9gwAxwfH2Ie",
        "outputId": "7db4295c-86f3-4345-a151-e28900b71bc9"
      },
      "execution_count": 20,
      "outputs": [
        {
          "output_type": "stream",
          "name": "stdout",
          "text": [
            "the micro f1 score on test set is 0.7777777777777778\n"
          ]
        },
        {
          "output_type": "display_data",
          "data": {
            "text/plain": [
              "<Figure size 432x288 with 2 Axes>"
            ],
            "image/png": "[encoded data removed]"
          },
          "metadata": {
            "needs_background": "light"
          }
        }
      ]
    },
    {
      "cell_type": "code",
      "source": [
        "###save model's paramenters###\n",
        "path=os.path.join(root_path,'model_paramenter.txt')\n",
        "torch.save(model.state_dict(),path)\n",
        "\n",
        "path2=os.path.join(root_path,'optimizer_paramenter.txt')\n",
        "torch.save(optimizer.state_dict(),path2)"
      ],
      "metadata": {
        "id": "-c2v9YqdRoUW"
      },
      "execution_count": 36,
      "outputs": []
    },
    {
      "cell_type": "code",
      "source": [
        "### create knn data_loader and make related preprocess###\n",
        "preprocess_knn = transforms.Compose([\n",
        "    transforms.ToPILImage(),\n",
        "    transforms.Resize((256,256)),\n",
        "    transforms.CenterCrop(224),\n",
        "    transforms.ToTensor(),\n",
        "    transforms.Normalize(mean=[0.485, 0.456, 0.406], std=[0.229, 0.224, 0.225]),\n",
        "])\n",
        "class train_set_knn(data.Dataset):\n",
        "  def __init__ (self,root_path='/content/drive/My Drive'):\n",
        "    self.image=[]\n",
        "    self.label=ground_truth\n",
        "\n",
        "    for i in range(1,973):\n",
        "      ###(H,W,C)###\n",
        "      img = cv2.imread(os.path.join(root_path, \"image_total\", \"%07d.jpg\" % i))\n",
        "      self.image.append(img)\n",
        "\n",
        "  def __len__(self):\n",
        "    return len(self.label)\n",
        "\n",
        "  def __getitem__(self, index):\n",
        "     image=self.image[index]\n",
        "     label=self.label[index]\n",
        "     #pil_image=Image.fromarray(image.astype(np.uint8))\n",
        "\n",
        "     return preprocess_knn(image),label\n",
        "\n",
        "class eva_set_knn(data.Dataset):\n",
        "  def __init__ (self,root_path='/content/drive/My Drive'):\n",
        "    self.image=[]\n",
        "    self.label=evaluate_truth\n",
        "\n",
        "    for i in range(1,16):\n",
        "      ###(H,W,C)###\n",
        "      img = cv2.imread(os.path.join(root_path, \"evaluate_image\", \"%03d.jpg\" % i))\n",
        "      self.image.append(img)\n",
        "\n",
        "  def __len__(self):\n",
        "    return len(self.label)\n",
        "\n",
        "  def __getitem__(self, index):\n",
        "     image=self.image[index]\n",
        "     label=self.label[index]\n",
        "     #pil_image=Image.fromarray(image.astype(np.uint8))\n",
        "\n",
        "     return preprocess_knn(image),label\n",
        "class test_set_knn(data.Dataset):\n",
        "  def __init__ (self,root_path='/content/drive/My Drive'):\n",
        "    self.image=[]\n",
        "    self.label=test_truth\n",
        "\n",
        "    for i in range(72):\n",
        "      ###(H,W,C)###\n",
        "      img = cv2.imread(os.path.join(root_path, \"new_test\", \"%03d.jpg\" % i))\n",
        "      self.image.append(img)\n",
        "\n",
        "  def __len__(self):\n",
        "    return len(self.label)\n",
        "\n",
        "  def __getitem__(self, index):\n",
        "     image=self.image[index]\n",
        "     label=self.label[index]\n",
        "     #pil_image=Image.fromarray(image.astype(np.uint8))\n",
        "\n",
        "     return preprocess_knn(image),label\n",
        "\n",
        "\n"
      ],
      "metadata": {
        "id": "ksIzy2s1_GGQ"
      },
      "execution_count": 27,
      "outputs": []
    },
    {
      "cell_type": "code",
      "source": [
        "##construct 3 dataloader###\n",
        "knn_train=train_set_knn()\n",
        "knn_evaluate=eva_set_knn()\n",
        "knn_test=test_set_knn()"
      ],
      "metadata": {
        "id": "vxZ_LO-XI1RD"
      },
      "execution_count": 28,
      "outputs": []
    },
    {
      "cell_type": "code",
      "source": [
        "#a=hog(knn_train[1][0],multichannel=True)\n",
        "#a.shape\n",
        "c=np.transpose(knn_train[1][0].numpy(),(1,2,0))\n",
        "type(c)\n",
        "a=hog(c,multichannel=True)\n",
        "a.shape\n",
        "print(len(knn_test)==len(knn_test.label))"
      ],
      "metadata": {
        "colab": {
          "base_uri": "https://localhost:8080/"
        },
        "id": "P9i0mkDCG0LK",
        "outputId": "8c0202cd-e83d-4757-e7a1-da52cf796760"
      },
      "execution_count": 29,
      "outputs": [
        {
          "output_type": "stream",
          "name": "stdout",
          "text": [
            "True\n"
          ]
        }
      ]
    },
    {
      "cell_type": "code",
      "source": [
        "#len(knn_train.image)==len(knn_train)\n",
        "#len(knn_test.image)==len(knn_test)\n",
        "###calculate hog features for KNN###\n",
        "\n",
        "hog_train=np.zeros((972,54756))\n",
        "hog_eva=np.zeros((15,54756))\n",
        "hog_test=np.zeros((72,54756))\n",
        "knn_train[1][0].shape\n",
        "\n",
        "for i in range(hog_train.shape[0]):\n",
        "  hog_train[i,:]=hog(np.transpose(knn_train[i][0].numpy(),(1,2,0)),multichannel=True)\n",
        "\n",
        "for j in range(hog_eva.shape[0]):\n",
        "  hog_eva[j,:]=hog(np.transpose(knn_evaluate[j][0].numpy(),(1,2,0)),multichannel=True)\n",
        "\n",
        "for k in range(hog_test.shape[0]):\n",
        "  hog_test[k,:]=hog(np.transpose(knn_test[k][0].numpy(),(1,2,0)),multichannel=True)\n"
      ],
      "metadata": {
        "id": "l35exYjPCkNh"
      },
      "execution_count": 33,
      "outputs": []
    },
    {
      "cell_type": "code",
      "source": [
        "hog_eval=np.zeros((45,54756))\n",
        "for i in range(hog_eval.shape[0]):\n",
        "  hog_eval[i,:]=hog(np.transpose(knn_train[(i+927)][0].numpy(),(1,2,0)),multichannel=True)"
      ],
      "metadata": {
        "id": "9uUtngjLI89J"
      },
      "execution_count": null,
      "outputs": []
    },
    {
      "cell_type": "code",
      "source": [
        "len([i for i in range(928,973)])\n",
        "q=[i for i in range(928,973)]\n",
        "q[-1]\n",
        "z=[i for i in range(1,21)]\n",
        "z[1:5]"
      ],
      "metadata": {
        "colab": {
          "base_uri": "https://localhost:8080/"
        },
        "id": "bgOeRzbeKM2U",
        "outputId": "fbd45a19-d79e-400c-fb05-8d488167f816"
      },
      "execution_count": null,
      "outputs": [
        {
          "output_type": "execute_result",
          "data": {
            "text/plain": [
              "[2, 3, 4, 5]"
            ]
          },
          "metadata": {},
          "execution_count": 87
        }
      ]
    },
    {
      "cell_type": "code",
      "source": [
        "### use evaluate set to find best hyperparameters###\n",
        "mean_acc=[]\n",
        "neighbor_list=[i for i in range(1,21)]\n",
        "target=ground_truth\n",
        "target_eval=evaluate_truth\n",
        "for j in neighbor_list:\n",
        "  KNN_model=KNeighborsClassifier(n_neighbors=j)\n",
        "  KNN_model.fit(hog_train,target)\n",
        "  mean_acc.append(KNN_model.score(hog_eva,target_eval))\n",
        "\n",
        "plt.plot(neighbor_list,mean_acc,label='accuracy related with n_neighbors')\n",
        "plt.xlabel('n_neighbors')\n",
        "plt.ylabel('the accuracy')\n",
        "plt.grid()\n",
        "plt.legend()\n",
        "best_n=neighbor_list[np.argmax(mean_acc)]\n",
        "print(f'the best n_neighbors is {best_n}')\n"
      ],
      "metadata": {
        "colab": {
          "base_uri": "https://localhost:8080/",
          "height": 297
        },
        "id": "68zXPj_OIVJC",
        "outputId": "3a16b378-39fb-40f9-bf90-ad90edd032e8"
      },
      "execution_count": 34,
      "outputs": [
        {
          "output_type": "stream",
          "name": "stdout",
          "text": [
            "the best n_neighbors is 10\n"
          ]
        },
        {
          "output_type": "display_data",
          "data": {
            "text/plain": [
              "<Figure size 432x288 with 1 Axes>"
            ],
            "image/png": "[encoded data removed]"
          },
          "metadata": {
            "needs_background": "light"
          }
        }
      ]
    },
    {
      "cell_type": "code",
      "source": [
        "###KNN model performance###\n",
        "KNN_model=KNeighborsClassifier(n_neighbors=best_n)\n",
        "KNN_model.fit(hog_train,target)\n",
        "y_predict=KNN_model.predict(hog_test)\n",
        "\n",
        "f1_c=f1_score(test_truth,y_predict,average='micro')\n",
        "con_mat=confusion_matrix(test_truth,y_predict)\n",
        "\n",
        "print(f'the micro f1 score on test set is {f1_c}')\n",
        "label_name=['pottery','print','painting','photo','sculpture']\n",
        "sns.heatmap(con_mat.T,square=True,annot=True,fmt='d',cbar=True,xticklabels=label_name,yticklabels=label_name)\n",
        "#plt.colorbar()\n",
        "plt.ylabel('predicted label')\n",
        "plt.xlabel('truth label')\n",
        "plt.title('Confusion matrix for KNN')\n",
        "plt.show()"
      ],
      "metadata": {
        "colab": {
          "base_uri": "https://localhost:8080/",
          "height": 312
        },
        "id": "NIfPNah9Ohfa",
        "outputId": "e4246cb3-8160-414a-b49c-d883c9543efb"
      },
      "execution_count": 35,
      "outputs": [
        {
          "output_type": "stream",
          "name": "stdout",
          "text": [
            "the micro f1 score on test set is 0.5694444444444444\n"
          ]
        },
        {
          "output_type": "display_data",
          "data": {
            "text/plain": [
              "<Figure size 432x288 with 2 Axes>"
            ],
            "image/png": "[encoded data removed]"
          },
          "metadata": {
            "needs_background": "light"
          }
        }
      ]
    }
  ]
}