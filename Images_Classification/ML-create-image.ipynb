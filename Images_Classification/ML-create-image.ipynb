{
 "cells": [
  {
   "cell_type": "code",
   "execution_count": 1,
   "metadata": {},
   "outputs": [],
   "source": [
    "import pandas as pd\n",
    "import numpy as np\n",
    "import matplotlib.pyplot as plt\n",
    "from PIL import Image\n",
    "import cv2\n",
    "import os"
   ]
  },
  {
   "cell_type": "code",
   "execution_count": 20,
   "metadata": {},
   "outputs": [
    {
     "data": {
      "text/html": [
       "<div>\n",
       "<style scoped>\n",
       "    .dataframe tbody tr th:only-of-type {\n",
       "        vertical-align: middle;\n",
       "    }\n",
       "\n",
       "    .dataframe tbody tr th {\n",
       "        vertical-align: top;\n",
       "    }\n",
       "\n",
       "    .dataframe thead th {\n",
       "        text-align: right;\n",
       "    }\n",
       "</style>\n",
       "<table border=\"1\" class=\"dataframe\">\n",
       "  <thead>\n",
       "    <tr style=\"text-align: right;\">\n",
       "      <th></th>\n",
       "      <th>\"index</th>\n",
       "      <th>0</th>\n",
       "      <th>1</th>\n",
       "      <th>2</th>\n",
       "      <th>3</th>\n",
       "      <th>4\"</th>\n",
       "    </tr>\n",
       "  </thead>\n",
       "  <tbody>\n",
       "    <tr>\n",
       "      <th>0</th>\n",
       "      <td>\"0</td>\n",
       "      <td>0001591_AK-NM-13401.jpg</td>\n",
       "      <td>0048095_RP-P-1887-A-12285.jpg</td>\n",
       "      <td>0016285_RP-T-1900-A-4378.jpg</td>\n",
       "      <td>0070464_RP-F-F14404-A.jpg</td>\n",
       "      <td>0008652_BK-NM-1005.jpg\"</td>\n",
       "    </tr>\n",
       "    <tr>\n",
       "      <th>1</th>\n",
       "      <td>\"1</td>\n",
       "      <td>0082797_BK-15974-126.jpg</td>\n",
       "      <td>0057724_RP-P-OB-24.001.jpg</td>\n",
       "      <td>0022667_RP-T-1949-535.jpg</td>\n",
       "      <td>0082584_RP-F-AB12279-AP.jpg</td>\n",
       "      <td>0008833_BK-1957-24-A.jpg\"</td>\n",
       "    </tr>\n",
       "    <tr>\n",
       "      <th>2</th>\n",
       "      <td>\"2</td>\n",
       "      <td>0066644_BK-KOG-2434.jpg</td>\n",
       "      <td>0059662_RP-P-1906-1541.jpg</td>\n",
       "      <td>0106032_RP-T-00-493-86B.jpg</td>\n",
       "      <td>0024191_RP-F-00-405.jpg</td>\n",
       "      <td>0008547_BK-KOG-651.jpg\"</td>\n",
       "    </tr>\n",
       "    <tr>\n",
       "      <th>3</th>\n",
       "      <td>\"3</td>\n",
       "      <td>0000399_AK-MAK-664.jpg</td>\n",
       "      <td>0107821_RP-P-OB-83.457.jpg</td>\n",
       "      <td>0063333_RP-T-1989-152.jpg</td>\n",
       "      <td>0071447_RP-F-F25505-AH.jpg</td>\n",
       "      <td>0009023_BK-NM-10782.jpg\"</td>\n",
       "    </tr>\n",
       "    <tr>\n",
       "      <th>4</th>\n",
       "      <td>\"4</td>\n",
       "      <td>0025062_BK-NM-12400-377.jpg</td>\n",
       "      <td>0061854_RP-P-OB-7469.jpg</td>\n",
       "      <td>0106036_RP-T-00-494-35.jpg</td>\n",
       "      <td>0065823_BI-F-1921-317-12.jpg</td>\n",
       "      <td>0008783_BK-1970-29-C.jpg\"</td>\n",
       "    </tr>\n",
       "  </tbody>\n",
       "</table>\n",
       "</div>"
      ],
      "text/plain": [
       "  \"index                            0                              1  \\\n",
       "0     \"0      0001591_AK-NM-13401.jpg  0048095_RP-P-1887-A-12285.jpg   \n",
       "1     \"1     0082797_BK-15974-126.jpg     0057724_RP-P-OB-24.001.jpg   \n",
       "2     \"2      0066644_BK-KOG-2434.jpg     0059662_RP-P-1906-1541.jpg   \n",
       "3     \"3       0000399_AK-MAK-664.jpg     0107821_RP-P-OB-83.457.jpg   \n",
       "4     \"4  0025062_BK-NM-12400-377.jpg       0061854_RP-P-OB-7469.jpg   \n",
       "\n",
       "                              2                             3  \\\n",
       "0  0016285_RP-T-1900-A-4378.jpg     0070464_RP-F-F14404-A.jpg   \n",
       "1     0022667_RP-T-1949-535.jpg   0082584_RP-F-AB12279-AP.jpg   \n",
       "2   0106032_RP-T-00-493-86B.jpg       0024191_RP-F-00-405.jpg   \n",
       "3     0063333_RP-T-1989-152.jpg    0071447_RP-F-F25505-AH.jpg   \n",
       "4    0106036_RP-T-00-494-35.jpg  0065823_BI-F-1921-317-12.jpg   \n",
       "\n",
       "                          4\"  \n",
       "0    0008652_BK-NM-1005.jpg\"  \n",
       "1  0008833_BK-1957-24-A.jpg\"  \n",
       "2    0008547_BK-KOG-651.jpg\"  \n",
       "3   0009023_BK-NM-10782.jpg\"  \n",
       "4  0008783_BK-1970-29-C.jpg\"  "
      ]
     },
     "execution_count": 20,
     "metadata": {},
     "output_type": "execute_result"
    }
   ],
   "source": [
    "##the train dataset###\n",
    "sample_document=pd.read_csv(r'D:\\machine learning project dataset\\artwork dataset\\sample_label.csv',sep='\\,',engine='python')\n",
    "sample_document.head(5)"
   ]
  },
  {
   "cell_type": "code",
   "execution_count": 5,
   "metadata": {},
   "outputs": [
    {
     "data": {
      "text/html": [
       "<div>\n",
       "<style scoped>\n",
       "    .dataframe tbody tr th:only-of-type {\n",
       "        vertical-align: middle;\n",
       "    }\n",
       "\n",
       "    .dataframe tbody tr th {\n",
       "        vertical-align: top;\n",
       "    }\n",
       "\n",
       "    .dataframe thead th {\n",
       "        text-align: right;\n",
       "    }\n",
       "</style>\n",
       "<table border=\"1\" class=\"dataframe\">\n",
       "  <thead>\n",
       "    <tr style=\"text-align: right;\">\n",
       "      <th></th>\n",
       "      <th>index</th>\n",
       "      <th>0</th>\n",
       "      <th>1</th>\n",
       "      <th>2</th>\n",
       "      <th>3</th>\n",
       "      <th>4</th>\n",
       "    </tr>\n",
       "  </thead>\n",
       "  <tbody>\n",
       "    <tr>\n",
       "      <th>0</th>\n",
       "      <td>0</td>\n",
       "      <td>0066684_BK-NM-4247.jpg</td>\n",
       "      <td>0060770_RP-P-1951-861.jpg</td>\n",
       "      <td>0023012_RP-T-1888-A-1614.jpg</td>\n",
       "      <td>0111892_NG-2011-29-21.jpg</td>\n",
       "      <td>0081647_BK-NM-144-8.jpg</td>\n",
       "    </tr>\n",
       "    <tr>\n",
       "      <th>1</th>\n",
       "      <td>1</td>\n",
       "      <td>0007174_BK-NM-12400-74.jpg</td>\n",
       "      <td>0050295_RP-P-1907-2362.jpg</td>\n",
       "      <td>0025832_RP-T-1984-12.jpg</td>\n",
       "      <td>0071248_RP-F-F25214-AB.jpg</td>\n",
       "      <td>0008906_BK-18813.jpg</td>\n",
       "    </tr>\n",
       "    <tr>\n",
       "      <th>2</th>\n",
       "      <td>2</td>\n",
       "      <td>0109971_BK-2010-15-7.jpg</td>\n",
       "      <td>0103409_RP-P-OB-82.623.jpg</td>\n",
       "      <td>0064760_RP-T-1933-86.jpg</td>\n",
       "      <td>0065920_BI-F-1921-317-63.jpg</td>\n",
       "      <td>0009102_BK-18771-B.jpg</td>\n",
       "    </tr>\n",
       "  </tbody>\n",
       "</table>\n",
       "</div>"
      ],
      "text/plain": [
       "   index                           0                           1  \\\n",
       "0      0      0066684_BK-NM-4247.jpg   0060770_RP-P-1951-861.jpg   \n",
       "1      1  0007174_BK-NM-12400-74.jpg  0050295_RP-P-1907-2362.jpg   \n",
       "2      2    0109971_BK-2010-15-7.jpg  0103409_RP-P-OB-82.623.jpg   \n",
       "\n",
       "                              2                             3  \\\n",
       "0  0023012_RP-T-1888-A-1614.jpg     0111892_NG-2011-29-21.jpg   \n",
       "1      0025832_RP-T-1984-12.jpg    0071248_RP-F-F25214-AB.jpg   \n",
       "2      0064760_RP-T-1933-86.jpg  0065920_BI-F-1921-317-63.jpg   \n",
       "\n",
       "                         4  \n",
       "0  0081647_BK-NM-144-8.jpg  \n",
       "1     0008906_BK-18813.jpg  \n",
       "2   0009102_BK-18771-B.jpg  "
      ]
     },
     "execution_count": 5,
     "metadata": {},
     "output_type": "execute_result"
    }
   ],
   "source": [
    "### the evaluation dataset##\n",
    "evaluate_docu=pd.read_csv(r'D:\\machine learning project dataset\\dataset\\evaluate.csv',sep='\\,',engine='python')\n",
    "evaluate_docu"
   ]
  },
  {
   "cell_type": "code",
   "execution_count": 33,
   "metadata": {},
   "outputs": [
    {
     "data": {
      "text/html": [
       "<div>\n",
       "<style scoped>\n",
       "    .dataframe tbody tr th:only-of-type {\n",
       "        vertical-align: middle;\n",
       "    }\n",
       "\n",
       "    .dataframe tbody tr th {\n",
       "        vertical-align: top;\n",
       "    }\n",
       "\n",
       "    .dataframe thead th {\n",
       "        text-align: right;\n",
       "    }\n",
       "</style>\n",
       "<table border=\"1\" class=\"dataframe\">\n",
       "  <thead>\n",
       "    <tr style=\"text-align: right;\">\n",
       "      <th></th>\n",
       "      <th>0</th>\n",
       "      <th>1</th>\n",
       "      <th>2</th>\n",
       "      <th>3</th>\n",
       "      <th>4</th>\n",
       "    </tr>\n",
       "  </thead>\n",
       "  <tbody>\n",
       "    <tr>\n",
       "      <th>0</th>\n",
       "      <td>0091341_BK-KOG-2394.jpg</td>\n",
       "      <td>0060912_RP-P-OB-24.628.jpg</td>\n",
       "      <td>0024981_RP-T-1902-A-4613.jpg</td>\n",
       "      <td>0081795_RP-F-F80374.jpg</td>\n",
       "      <td>0008618_BK-NM-7206.jpg</td>\n",
       "    </tr>\n",
       "    <tr>\n",
       "      <th>1</th>\n",
       "      <td>0001499_AK-NM-13428.jpg</td>\n",
       "      <td>0109556_RP-P-OB-102.476.jpg</td>\n",
       "      <td>0065316_RP-T-1928-74.jpg</td>\n",
       "      <td>0070454_RP-F-F14392-B.jpg</td>\n",
       "      <td>0008920_BK-18811.jpg</td>\n",
       "    </tr>\n",
       "    <tr>\n",
       "      <th>2</th>\n",
       "      <td>0001166_AK-RBK-15858.jpg</td>\n",
       "      <td>0104535_RP-P-OB-83.034-203.jpg</td>\n",
       "      <td>0024987_RP-T-1961-95.jpg</td>\n",
       "      <td>0023489_RP-F-00-57.jpg</td>\n",
       "      <td>0081642_BK-NM-144-3.jpg</td>\n",
       "    </tr>\n",
       "    <tr>\n",
       "      <th>3</th>\n",
       "      <td>0066747_BK-NM-11168-B.jpg</td>\n",
       "      <td>0077929_RP-P-1885-A-9960.jpg</td>\n",
       "      <td>0065267_RP-T-00-1202.jpg</td>\n",
       "      <td>0092308_RP-F-2005-107-247.jpg</td>\n",
       "      <td>0008772_BK-1959-50-B.jpg</td>\n",
       "    </tr>\n",
       "    <tr>\n",
       "      <th>4</th>\n",
       "      <td>0091341_BK-KOG-2394.jpg</td>\n",
       "      <td>0059406_RP-P-1982-260.jpg</td>\n",
       "      <td>0022817_RP-T-1884-A-330E.jpg</td>\n",
       "      <td>0081892_RP-F-1997-65.jpg</td>\n",
       "      <td>0008939_BK-15401.jpg</td>\n",
       "    </tr>\n",
       "  </tbody>\n",
       "</table>\n",
       "</div>"
      ],
      "text/plain": [
       "                           0                               1  \\\n",
       "0    0091341_BK-KOG-2394.jpg      0060912_RP-P-OB-24.628.jpg   \n",
       "1    0001499_AK-NM-13428.jpg     0109556_RP-P-OB-102.476.jpg   \n",
       "2   0001166_AK-RBK-15858.jpg  0104535_RP-P-OB-83.034-203.jpg   \n",
       "3  0066747_BK-NM-11168-B.jpg    0077929_RP-P-1885-A-9960.jpg   \n",
       "4    0091341_BK-KOG-2394.jpg       0059406_RP-P-1982-260.jpg   \n",
       "\n",
       "                              2                              3  \\\n",
       "0  0024981_RP-T-1902-A-4613.jpg        0081795_RP-F-F80374.jpg   \n",
       "1      0065316_RP-T-1928-74.jpg      0070454_RP-F-F14392-B.jpg   \n",
       "2      0024987_RP-T-1961-95.jpg         0023489_RP-F-00-57.jpg   \n",
       "3      0065267_RP-T-00-1202.jpg  0092308_RP-F-2005-107-247.jpg   \n",
       "4  0022817_RP-T-1884-A-330E.jpg       0081892_RP-F-1997-65.jpg   \n",
       "\n",
       "                          4  \n",
       "0    0008618_BK-NM-7206.jpg  \n",
       "1      0008920_BK-18811.jpg  \n",
       "2   0081642_BK-NM-144-3.jpg  \n",
       "3  0008772_BK-1959-50-B.jpg  \n",
       "4      0008939_BK-15401.jpg  "
      ]
     },
     "execution_count": 33,
     "metadata": {},
     "output_type": "execute_result"
    }
   ],
   "source": [
    "### test dataset###\n",
    "test_docu=pd.read_csv(r'D:\\machine learning project dataset\\dataset\\new_test.csv',sep='\\,',engine='python')\n",
    "test_docu=test_docu.iloc[:,1:]\n",
    "test_docu.head(5)"
   ]
  },
  {
   "cell_type": "code",
   "execution_count": 26,
   "metadata": {},
   "outputs": [],
   "source": [
    "num_docu=sample_document.iloc[:,1:]\n",
    "#type(sample_document.iloc[0,0])\n",
    "num_docu.head(5)\n",
    "num_docu=num_docu.values"
   ]
  },
  {
   "cell_type": "code",
   "execution_count": 137,
   "metadata": {},
   "outputs": [
    {
     "data": {
      "text/plain": [
       "'0000876_AK-MAK-198.jpg'"
      ]
     },
     "execution_count": 137,
     "metadata": {},
     "output_type": "execute_result"
    }
   ],
   "source": [
    "### change the sign in the forth columns##\n",
    "num_docu[100,4].replace('\\\"','')"
   ]
  },
  {
   "cell_type": "code",
   "execution_count": 135,
   "metadata": {
    "scrolled": true
   },
   "outputs": [
    {
     "name": "stdout",
     "output_type": "stream",
     "text": [
      "D:\\machine learning project dataset\\dataset\\train\\0000876_AK-MAK-198.jpg\"\n"
     ]
    }
   ],
   "source": [
    "a=os.path.join(root_path,num_docu[100,4])\n",
    "print(a)\n",
    "#D:\\machine learning project dataset\\artwork dataset\\train image"
   ]
  },
  {
   "cell_type": "code",
   "execution_count": 136,
   "metadata": {},
   "outputs": [
    {
     "data": {
      "text/plain": [
       "NoneType"
      ]
     },
     "execution_count": 136,
     "metadata": {},
     "output_type": "execute_result"
    }
   ],
   "source": [
    "#for i in range(200):\n",
    "root_path=  'D:\\machine learning project dataset\\dataset\\\\train'\n",
    "image=cv2.imread(a)\n",
    "type(image)\n"
   ]
  },
  {
   "cell_type": "code",
   "execution_count": 81,
   "metadata": {},
   "outputs": [
    {
     "name": "stdout",
     "output_type": "stream",
     "text": [
      "D:\\machine learning project dataset\\dataset\\use\\image1\n",
      "D:\\machine learning project dataset\\dataset\\use\\image1\\0001591_AK-NM-13401.jpg\n"
     ]
    },
    {
     "data": {
      "text/plain": [
       "True"
      ]
     },
     "execution_count": 81,
     "metadata": {},
     "output_type": "execute_result"
    }
   ],
   "source": [
    "#b=os.path.join(store_path,image)\n",
    "store_path='D:\\machine learning project dataset\\dataset\\\\use\\image1'\n",
    "print(store_path)\n",
    "save_path=os.path.join(store_path,num_docu[0,0])\n",
    "print(save_path)\n",
    "cv2.imwrite(save_path,image)"
   ]
  },
  {
   "cell_type": "code",
   "execution_count": 89,
   "metadata": {},
   "outputs": [],
   "source": [
    "def store_image(image_path,store_path,document):\n",
    "    for i in range(len(document)):\n",
    "        image_name=document[i]\n",
    "        read_path=os.path.join(image_path,image_name)\n",
    "        target_image=cv2.imread(read_path)\n",
    "            \n",
    "        save_path=os.path.join(store_path,image_name)\n",
    "        cv2.imwrite(save_path,target_image)\n",
    "    print(f'save all target images')\n",
    "            \n",
    "        "
   ]
  },
  {
   "cell_type": "code",
   "execution_count": 141,
   "metadata": {},
   "outputs": [],
   "source": [
    "for i in range(num_docu.shape[0]):\n",
    "    num_docu[i,4]=num_docu[i,4].replace('\\\"','')"
   ]
  },
  {
   "cell_type": "code",
   "execution_count": 3,
   "metadata": {},
   "outputs": [
    {
     "name": "stdout",
     "output_type": "stream",
     "text": [
      "D:\\machine learning project dataset\\dataset\\use\\evaluate_image\n"
     ]
    }
   ],
   "source": [
    "\n",
    "image_path='D:\\machine learning project dataset\\dataset\\\\train'\n",
    "store_path='D:\\machine learning project dataset\\dataset\\\\use\\evaluate_image'\n",
    "\n",
    "print(store_path)"
   ]
  },
  {
   "cell_type": "code",
   "execution_count": 16,
   "metadata": {},
   "outputs": [],
   "source": [
    "#target_label=[]\n",
    "for i in range(eva.shape[1]):\n",
    "    for j in range(eva.shape[0]):\n",
    "            image_p=os.path.join(image_path,eva[j,i])\n",
    "            image=cv2.imread(image_p)\n",
    "            if image is not None:\n",
    "                save_path=os.path.join(store_path,eva[j,i])\n",
    "                cv2.imwrite(save_path,image)\n",
    "                #target_label.append(i)"
   ]
  },
  {
   "cell_type": "code",
   "execution_count": 34,
   "metadata": {},
   "outputs": [
    {
     "name": "stdout",
     "output_type": "stream",
     "text": [
      "[['0091341_BK-KOG-2394.jpg' '0060912_RP-P-OB-24.628.jpg'\n",
      "  '0024981_RP-T-1902-A-4613.jpg' '0081795_RP-F-F80374.jpg'\n",
      "  '0008618_BK-NM-7206.jpg']\n",
      " ['0001499_AK-NM-13428.jpg' '0109556_RP-P-OB-102.476.jpg'\n",
      "  '0065316_RP-T-1928-74.jpg' '0070454_RP-F-F14392-B.jpg'\n",
      "  '0008920_BK-18811.jpg']\n",
      " ['0001166_AK-RBK-15858.jpg' '0104535_RP-P-OB-83.034-203.jpg'\n",
      "  '0024987_RP-T-1961-95.jpg' '0023489_RP-F-00-57.jpg'\n",
      "  '0081642_BK-NM-144-3.jpg']]\n",
      "(15, 5)\n"
     ]
    }
   ],
   "source": [
    "## create the test dataset###\n",
    "## test the path and document###\n",
    "image_path='D:\\machine learning project dataset\\dataset\\\\train'\n",
    "store_path_t='D:\\machine learning project dataset\\dataset\\\\use\\\\new_test1'\n",
    "test_set=test_docu.values\n",
    "print(test_set[:3,:])\n",
    "print(test_set.shape)\n",
    "k=0"
   ]
  },
  {
   "cell_type": "code",
   "execution_count": 39,
   "metadata": {},
   "outputs": [],
   "source": [
    "### create test image set###\n",
    "###store the image by changing the column index manually###\n",
    "## change the column index i in test_set[j,i], and path name in store_path_t###\n",
    "store_path_t='D:\\machine learning project dataset\\dataset\\\\use\\\\new_test5'\n",
    "for j in range(test_set.shape[0]):\n",
    "            image_p=os.path.join(image_path,test_set[j,4])\n",
    "            image=cv2.imread(image_p)\n",
    "            if image is not None:\n",
    "                #test_set[j,i]=f'label_{i}.jpg'\n",
    "                save_path=os.path.join(store_path_t,f'%03d.jpg' % k)\n",
    "                cv2.imwrite(save_path,image)\n",
    "                k +=1"
   ]
  }
 ],
 "metadata": {
  "kernelspec": {
   "display_name": "Python 3",
   "language": "python",
   "name": "python3"
  },
  "language_info": {
   "codemirror_mode": {
    "name": "ipython",
    "version": 3
   },
   "file_extension": ".py",
   "mimetype": "text/x-python",
   "name": "python",
   "nbconvert_exporter": "python",
   "pygments_lexer": "ipython3",
   "version": "3.8.5"
  }
 },
 "nbformat": 4,
 "nbformat_minor": 4
}
